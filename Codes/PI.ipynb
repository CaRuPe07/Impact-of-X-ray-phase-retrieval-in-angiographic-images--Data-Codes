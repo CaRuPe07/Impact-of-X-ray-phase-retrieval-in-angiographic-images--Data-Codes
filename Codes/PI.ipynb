{
 "cells": [
  {
   "cell_type": "code",
   "execution_count": 1,
   "id": "76671d8f-2a75-4d70-93cd-46c9d354de78",
   "metadata": {},
   "outputs": [],
   "source": [
    "import numpy as np \n",
    "import matplotlib.pyplot as plt\n",
    "import matplotlib.ticker as ticker\n",
    "import cv2"
   ]
  },
  {
   "cell_type": "code",
   "execution_count": 2,
   "id": "c018dd68-d0a4-4348-abb6-d12039a5f12f",
   "metadata": {},
   "outputs": [],
   "source": [
    "a=5.5*(10**(-5))\n",
    "Npixeles=256\n",
    "z=1.2\n",
    "zs=0.6\n",
    "M=(z+zs)/zs\n",
    "Name1=\"1.94 mm\"\n",
    "Name2=\"2.93 mm\"\n",
    "Name3=\"3.85 mm\"\n",
    "namme=\"PMMA2\"\n",
    "A=\"Air\"\n",
    "S=\"Artificial blood\"\n",
    "I=\"Iodine\"\n",
    "name1A = \"Tubos \"+namme+\"\\Tubo \"+Name1+\"\\RAW_\"\n",
    "name2A = \"Tubos \"+namme+\"\\Tubo \"+Name2+\"\\RAW_\"\n",
    "name3A = \"Tubos \"+namme+\"\\Tubo \"+Name3+\"\\RAW_\"\n",
    "name1S = \"Tubos \"+namme+\"\\Tubo \"+Name1+\"\\RAW_\"\n",
    "name2S = \"Tubos \"+namme+\"\\Tubo \"+Name2+\"\\RAW_\"\n",
    "name3S = \"Tubos \"+namme+\"\\Tubo \"+Name3+\"\\RAW_\"\n",
    "name1I = \"Tubos \"+namme+\"\\Tubo \"+Name1+\"\\RAW_\"\n",
    "name2I = \"Tubos \"+namme+\"\\Tubo \"+Name2+\"\\RAW_\"\n",
    "name3I = \"Tubos \"+namme+\"\\Tubo \"+Name3+\"\\RAW_\"\n",
    "PA1=np.genfromtxt(name1A+A+\"\\DataPM\\PICFC_\"+Name1+\".txt\")\n",
    "PS1=np.genfromtxt(name1S+S+\"\\DataPM\\PICFC_\"+Name1+\".txt\")\n",
    "PY1=np.genfromtxt(name1I+I+\"\\DataPM\\PICFC_\"+Name1+\".txt\")\n",
    "PA2=np.genfromtxt(name2A+A+\"\\DataPM\\PICFC_\"+Name2+\".txt\")\n",
    "PS2=np.genfromtxt(name2S+S+\"\\DataPM\\PICFC_\"+Name2+\".txt\")\n",
    "PY2=np.genfromtxt(name2I+I+\"\\DataPM\\PICFC_\"+Name2+\".txt\")\n",
    "PA3=np.genfromtxt(name3A+A+\"\\DataPM\\PICFC_\"+Name3+\".txt\")\n",
    "PS3=np.genfromtxt(name3S+S+\"\\DataPM\\PICFC_\"+Name3+\".txt\")\n",
    "PY3=np.genfromtxt(name3I+I+\"\\DataPM\\PICFC_\"+Name3+\".txt\")\n",
    "PPA1=np.genfromtxt(name1A+A+\"\\DataPM\\PIFC_\"+Name1+\".txt\")\n",
    "PPS1=np.genfromtxt(name1S+S+\"\\DataPM\\PIFC_\"+Name1+\".txt\")\n",
    "PPY1=np.genfromtxt(name1I+I+\"\\DataPM\\PIFC_\"+Name1+\".txt\")\n",
    "PPA2=np.genfromtxt(name2A+A+\"\\DataPM\\PIFC_\"+Name2+\".txt\")\n",
    "PPS2=np.genfromtxt(name2S+S+\"\\DataPM\\PIFC_\"+Name2+\".txt\")\n",
    "PPY2=np.genfromtxt(name2I+I+\"\\DataPM\\PIFC_\"+Name2+\".txt\")\n",
    "PPA3=np.genfromtxt(name3A+A+\"\\DataPM\\PIFC_\"+Name3+\".txt\")\n",
    "PPS3=np.genfromtxt(name3S+S+\"\\DataPM\\PIFC_\"+Name3+\".txt\")\n",
    "PPY3=np.genfromtxt(name3I+I+\"\\DataPM\\PIFC_\"+Name3+\".txt\")\n",
    "OPA1=np.genfromtxt(name1A+A+\"\\DataP\\PICFC_\"+Name1+\".txt\")\n",
    "OPS1=np.genfromtxt(name1S+S+\"\\DataP\\PICFC_\"+Name1+\".txt\")\n",
    "OPY1=np.genfromtxt(name1I+I+\"\\DataP\\PICFC_\"+Name1+\".txt\")\n",
    "OPA2=np.genfromtxt(name2A+A+\"\\DataP\\PICFC_\"+Name2+\".txt\")\n",
    "OPS2=np.genfromtxt(name2S+S+\"\\DataP\\PICFC_\"+Name2+\".txt\")\n",
    "OPY2=np.genfromtxt(name2I+I+\"\\DataP\\PICFC_\"+Name2+\".txt\")\n",
    "OPA3=np.genfromtxt(name3A+A+\"\\DataP\\PICFC_\"+Name3+\".txt\")\n",
    "OPS3=np.genfromtxt(name3S+S+\"\\DataP\\PICFC_\"+Name3+\".txt\")\n",
    "OPY3=np.genfromtxt(name3I+I+\"\\DataP\\PICFC_\"+Name3+\".txt\")\n",
    "OPPA1=np.genfromtxt(name1A+A+\"\\DataP\\PIFC_\"+Name1+\".txt\")\n",
    "OPPS1=np.genfromtxt(name1S+S+\"\\DataP\\PIFC_\"+Name1+\".txt\")\n",
    "OPPY1=np.genfromtxt(name1I+I+\"\\DataP\\PIFC_\"+Name1+\".txt\")\n",
    "OPPA2=np.genfromtxt(name2A+A+\"\\DataP\\PIFC_\"+Name2+\".txt\")\n",
    "OPPS2=np.genfromtxt(name2S+S+\"\\DataP\\PIFC_\"+Name2+\".txt\")\n",
    "OPPY2=np.genfromtxt(name2I+I+\"\\DataP\\PIFC_\"+Name2+\".txt\")\n",
    "OPPA3=np.genfromtxt(name3A+A+\"\\DataP\\PIFC_\"+Name3+\".txt\")\n",
    "OPPS3=np.genfromtxt(name3S+S+\"\\DataP\\PIFC_\"+Name3+\".txt\")\n",
    "OPPY3=np.genfromtxt(name3I+I+\"\\DataP\\PIFC_\"+Name3+\".txt\")\n",
    "x=np.arange(0,Npixeles,1)\n",
    "x_J = np.multiply(x,np.round((a*(10**(3)))/M,4))"
   ]
  },
  {
   "cell_type": "code",
   "execution_count": 27,
   "id": "12fa45bd-f034-440b-a197-7e06712d6251",
   "metadata": {},
   "outputs": [
    {
     "data": {
      "image/png": "[encoded data removed]",
      "text/plain": [
       "<Figure size 432x288 with 1 Axes>"
      ]
     },
     "metadata": {
      "needs_background": "light"
     },
     "output_type": "display_data"
    }
   ],
   "source": [
    "#X1=0.35 #Yodo\n",
    "#X2=0.53\n",
    "#X3=0.22\n",
    "#X4=0.44\n",
    "#X5=0.16\n",
    "#X6=0.42\n",
    "#X1=0.44 #Sangre\n",
    "#X2=0.53\n",
    "#X3=0.32\n",
    "#X4=0.48\n",
    "#X5=0.24\n",
    "#X6=0.42\n",
    "#X1=0.67 #Aire\n",
    "#X2=0.53\n",
    "#X3=0.69\n",
    "#X4=0.48\n",
    "#X5=0.69\n",
    "#X6=0.42\n",
    "#X2=0.53 #Diametro 1\n",
    "#X1=0.67 \n",
    "#X3=0.44\n",
    "#X4=0.35\n",
    "X2=0.48 #Diametro 2\n",
    "X5=0.46\n",
    "X1=0.69 \n",
    "X3=0.32\n",
    "X4=0.22\n",
    "#X2=0.42 #Diametro 3\n",
    "#X1=0.69 \n",
    "#X3=0.24\n",
    "#X4=0.16\n",
    "fig,ax=plt.subplots()\n",
    "plt.plot(x_J,PA2,label=\"Air\",color=\"blue\")\n",
    "plt.plot(x_J,PS2,label=\"A. blood\",color=\"forestgreen\")\n",
    "plt.plot(x_J,PY2,label=\"P. iodine\",color=\"orange\")\n",
    "ax.axhline(y=X1, xmin=0, xmax=np.max(x_J),linestyle=\"--\", color=\"blue\",linewidth=1.)\n",
    "ax.axhline(y=X2, xmin=0, xmax=np.max(x_J),linestyle=\"-\", color=\"black\",linewidth=1.)\n",
    "ax.axhline(y=X3, xmin=0, xmax=np.max(x_J),linestyle=\"--\", color=\"forestgreen\",linewidth=1.)\n",
    "ax.axhline(y=X4, xmin=0, xmax=np.max(x_J),linestyle=\"--\", color=\"orange\",linewidth=1.)\n",
    "#ax.axhline(y=X5, xmin=0, xmax=np.max(x_J),linestyle=\"-\", color=\"black\",linewidth=1.2)\n",
    "#ax.axhline(y=X6, xmin=0, xmax=np.max(x_J),linestyle=\"--\", color=\"forestgreen\",linewidth=1.2)\n",
    "plt.ylabel(\"Normalized intensity\",fontsize=14)\n",
    "plt.xlabel(\"Position (mm)\",fontsize=14)\n",
    "plt.ylim(0.0,1.25)\n",
    "plt.xlim(0.0,np.round((Npixeles*a*(10**(3)))/M,3))\n",
    "plt.grid()\n",
    "plt.legend(bbox_to_anchor=(1.01, 1.20),mode = \"Expand\", ncol=3,fontsize=14.5)\n",
    "#plt.savefig(name1A+S+\"\\DataPM\\PI.pdf\", bbox_inches='tight', transparent=True, pad_inches=0,dpi=199)"
   ]
  },
  {
   "cell_type": "code",
   "execution_count": 29,
   "id": "8b017c14-4b6f-4d43-ac1b-c6eac22e4787",
   "metadata": {},
   "outputs": [
    {
     "data": {
      "image/png": "[encoded data removed]",
      "text/plain": [
       "<Figure size 432x288 with 1 Axes>"
      ]
     },
     "metadata": {
      "needs_background": "light"
     },
     "output_type": "display_data"
    }
   ],
   "source": [
    "#XX1=97 #Yodo Ullherr\n",
    "#XX2=60\n",
    "#XX3=140\n",
    "#XX4=75\n",
    "#XX5=173\n",
    "#XX6=80\n",
    "#XX1=160 #Yodo Paganin\n",
    "#XX2=97\n",
    "#XX3=233\n",
    "#XX4=125\n",
    "#XX5=283\n",
    "#XX6=135\n",
    "#XX1=128 #Sangre Ullherr\n",
    "#XX2=100\n",
    "#XX3=180\n",
    "#XX4=120\n",
    "#XX5=224\n",
    "#XX6=145\n",
    "#XX1=370 #Sangre Paganin\n",
    "#XX2=275\n",
    "#XX3=515\n",
    "#XX4=340\n",
    "#XX5=650\n",
    "#XX6=380\n",
    "#XX1=-435 #Aire Ullherr\n",
    "#XX2=-280\n",
    "#XX3=-520\n",
    "#XX4=-250\n",
    "#XX5=-600\n",
    "#XX6=-260\n",
    "#XX1=-310 #Aire Paganin\n",
    "#XX2=-178\n",
    "#XX3=-370\n",
    "#XX4=-160\n",
    "#XX5=-420\n",
    "#XX6=-165\n",
    "XX2=0.66 #Diametro 1\n",
    "XX1=0.82 \n",
    "XX3=0.43\n",
    "XX4=0.56\n",
    "#XX2=0.6 #Diametro 2\n",
    "#XX5=0.58\n",
    "#XX1=0.84 \n",
    "#XX3=0.38\n",
    "#XX4=0.17\n",
    "#XX2=0.54 #Diametro 3\n",
    "#XX1=0.83 \n",
    "#XX3=0.23\n",
    "#XX4=0.01\n",
    "fig,ax=plt.subplots()\n",
    "plt.plot(x_J,PPA1,label=\"Air\",color=\"blue\")\n",
    "#plt.plot(x_J,OPPA1,label=Name1,linestyle=\"--\",color=\"blue\")\n",
    "plt.plot(x_J,PPS1,label=\"A. blood\",color=\"forestgreen\")\n",
    "#plt.plot(x_J,OPPA2,label=Name2,linestyle=\"--\",color=\"orange\")\n",
    "plt.plot(x_J,PPY1,label=\"P. iodine\",color=\"orange\")\n",
    "#plt.plot(x_J,OPPA3,label=Name3,linestyle=\"--\",color=\"forestgreen\")\n",
    "ax.axhline(y=XX1, xmin=0, xmax=np.max(x_J),linestyle=\"--\", color=\"blue\",linewidth=1.)\n",
    "ax.axhline(y=XX2, xmin=0, xmax=np.max(x_J),linestyle=\"-\", color=\"black\",linewidth=1.)\n",
    "ax.axhline(y=XX3, xmin=0, xmax=np.max(x_J),linestyle=\"--\", color=\"orange\",linewidth=1.)\n",
    "ax.axhline(y=XX4, xmin=0, xmax=np.max(x_J),linestyle=\"--\", color=\"forestgreen\",linewidth=1.)\n",
    "#ax.axhline(y=XX5, xmin=0, xmax=np.max(x_J),linestyle=\"-\", color=\"black\",linewidth=1.2)\n",
    "#ax.axhline(y=XX6, xmin=0, xmax=np.max(x_J),linestyle=\"--\", color=\"forestgreen\",linewidth=1.2)\n",
    "plt.ylabel(\"Normalized phase-shift\",fontsize=14)\n",
    "plt.xlabel(\"Position (mm)\",fontsize=14)\n",
    "plt.ylim(0.0,1.25)\n",
    "plt.xlim(0.0,np.round((Npixeles*a*(10**(3)))/M,3))\n",
    "plt.grid()\n",
    "plt.legend(bbox_to_anchor=(1.01, 1.20),mode = \"Expand\", ncol=3,fontsize=14.5)\n",
    "#plt.savefig(name1A+A+\"\\DataPM\\PF.pdf\", bbox_inches='tight', transparent=True, pad_inches=0,dpi=199)"
   ]
  },
  {
   "cell_type": "code",
   "execution_count": 10,
   "id": "4d41abbe-2039-4b20-aa55-31296e1bd25d",
   "metadata": {},
   "outputs": [],
   "source": [
    "S5=\"Artificial blood_5-95\"\n",
    "S30=\"Artificial blood_30-70\"\n",
    "S50=\"Artificial blood_50-50\"\n",
    "nammme=\"PMMA3\"\n",
    "nameS5 = \"Tubos \"+nammme+\"\\Tubo \"+Name3+\"\\RAW_\"\n",
    "PSSN=np.genfromtxt(nameS5+S+\"\\DataPM\\PICFC_\"+Name3+\".txt\")\n",
    "PSS5=np.genfromtxt(nameS5+S5+\"\\DataPM\\PICFC_\"+Name3+\".txt\")\n",
    "PSS30=np.genfromtxt(nameS5+S30+\"\\DataPM\\PICFC_\"+Name3+\".txt\")\n",
    "PS50=np.genfromtxt(nameS5+S50+\"\\DataPM\\PICFC_\"+Name3+\".txt\")\n",
    "PPSSN=np.genfromtxt(nameS5+S+\"\\DataPM\\PIFC_\"+Name3+\".txt\")\n",
    "PPSS5=np.genfromtxt(nameS5+S5+\"\\DataPM\\PIFC_\"+Name3+\".txt\")\n",
    "PPSS30=np.genfromtxt(nameS5+S30+\"\\DataPM\\PIFC_\"+Name3+\".txt\")\n",
    "PPS50=np.genfromtxt(nameS5+S50+\"\\DataPM\\PIFC_\"+Name3+\".txt\")"
   ]
  },
  {
   "cell_type": "code",
   "execution_count": 11,
   "id": "02865e20-72ae-4e75-84b8-0d5e1261eb0d",
   "metadata": {},
   "outputs": [],
   "source": [
    "X=253\n",
    "XX=253\n",
    "XXX=256\n",
    "PSN=np.concatenate((PSSN[X:256],PSSN[0:X]))\n",
    "PS5=np.concatenate((PSS5[XX:256],PSS5[0:XX]))\n",
    "PS30=np.concatenate((PSS30[XXX:256],PSS30[0:XXX]))\n",
    "PPSN=np.concatenate((PPSSN[X:256],PPSSN[0:X]))\n",
    "PPS5=np.concatenate((PPSS5[XX:256],PPSS5[0:XX]))\n",
    "PPS30=np.concatenate((PPSS30[XXX:256],PPSS30[0:XXX]))"
   ]
  },
  {
   "cell_type": "code",
   "execution_count": 16,
   "id": "9ffbed9a-20b3-45d8-9565-090a21d22521",
   "metadata": {},
   "outputs": [
    {
     "data": {
      "image/png": "[encoded data removed]",
      "text/plain": [
       "<Figure size 432x288 with 1 Axes>"
      ]
     },
     "metadata": {
      "needs_background": "light"
     },
     "output_type": "display_data"
    }
   ],
   "source": [
    "XXX3=0.44\n",
    "XXX1=0.23\n",
    "XXX2=0.26\n",
    "XXX4=0.13\n",
    "XXX6=0.1\n",
    "fig,ax=plt.subplots()\n",
    "plt.plot(x_J,PSN,label=\"No mixture\",color=\"forestgreen\")\n",
    "plt.plot(x_J,PS5,label=\"5% HA - 95% PMMA\",color=\"red\")\n",
    "plt.plot(x_J,PS30,label=\"30% HA - 70% PMMA\",color=\"orange\")\n",
    "plt.plot(x_J,PS50,label=\"50% HA - 50% PMMA\",color=\"blue\")\n",
    "ax.axhline(y=XXX1, xmin=0, xmax=np.max(x_J),linestyle=\"--\", color=\"forestgreen\",linewidth=1.2)\n",
    "ax.axhline(y=XXX2, xmin=0, xmax=np.max(x_J),linestyle=\"--\", color=\"red\",linewidth=1.2)\n",
    "ax.axhline(y=XXX3, xmin=0, xmax=np.max(x_J),linestyle=\"-\", color=\"black\",linewidth=1.2)\n",
    "ax.axhline(y=XXX4, xmin=0, xmax=np.max(x_J),linestyle=\"--\", color=\"orange\",linewidth=1.2)\n",
    "#ax.axhline(y=XXX5, xmin=0, xmax=np.max(x_J),linestyle=\"-\", color=\"forestgreen\",linewidth=1.2)\n",
    "ax.axhline(y=XXX6, xmin=0, xmax=np.max(x_J),linestyle=\"--\", color=\"blue\",linewidth=1.2)\n",
    "plt.ylabel(\"Normalized intensity\",fontsize=14)\n",
    "plt.xlabel(\"Position (mm)\",fontsize=14)\n",
    "plt.ylim(-0.3,1.25)\n",
    "plt.xlim(0.0,np.round((Npixeles*a*(10**(3)))/M,3))\n",
    "plt.grid()\n",
    "plt.legend(bbox_to_anchor=(1.12, 1.32),mode = \"Expand\", ncol=2,fontsize=14.5)\n",
    "#plt.savefig(nameS5+S+\"\\DataPM\\PI.pdf\", bbox_inches='tight', transparent=True, pad_inches=0,dpi=199)"
   ]
  },
  {
   "cell_type": "code",
   "execution_count": 17,
   "id": "7f22c516-8392-4fdc-aeec-87bf0034a34d",
   "metadata": {},
   "outputs": [
    {
     "data": {
      "image/png": "[encoded data removed]",
      "text/plain": [
       "<Figure size 432x288 with 1 Axes>"
      ]
     },
     "metadata": {
      "needs_background": "light"
     },
     "output_type": "display_data"
    }
   ],
   "source": [
    "XXXX3=0.55\n",
    "XXXX1=0.2\n",
    "XXXX2=0.25\n",
    "XXXX4=-0.1\n",
    "XXXX6=-0.25\n",
    "fig,ax=plt.subplots()\n",
    "plt.plot(x_J,PPSN,label=\"No mixture\",color=\"forestgreen\")\n",
    "plt.plot(x_J,PPS5,label=\"5% HA - 95% PMMA\",color=\"red\")\n",
    "plt.plot(x_J,PPS30,label=\"30% HA - 70% PMMA\",color=\"orange\")\n",
    "plt.plot(x_J,PPS50,label=\"50% HA - 50% PMMA\",color=\"blue\")\n",
    "ax.axhline(y=XXXX1, xmin=0, xmax=np.max(x_J),linestyle=\"--\", color=\"forestgreen\",linewidth=1.2)\n",
    "ax.axhline(y=XXXX2, xmin=0, xmax=np.max(x_J),linestyle=\"--\", color=\"red\",linewidth=1.2)\n",
    "ax.axhline(y=XXXX3, xmin=0, xmax=np.max(x_J),linestyle=\"-\", color=\"black\",linewidth=1.2)\n",
    "ax.axhline(y=XXXX4, xmin=0, xmax=np.max(x_J),linestyle=\"--\", color=\"orange\",linewidth=1.2)\n",
    "#ax.axhline(y=XXXX5, xmin=0, xmax=np.max(x_J),linestyle=\"-\", color=\"forestgreen\",linewidth=1.2)\n",
    "ax.axhline(y=XXXX6, xmin=0, xmax=np.max(x_J),linestyle=\"--\", color=\"blue\",linewidth=1.2)\n",
    "plt.ylabel(\"Normalized phase-shift\",fontsize=14)\n",
    "plt.xlabel(\"Position (mm)\",fontsize=14)\n",
    "plt.ylim(-0.3,1.25)\n",
    "plt.xlim(0.0,np.round((Npixeles*a*(10**(3)))/M,3))\n",
    "plt.grid()\n",
    "plt.legend(bbox_to_anchor=(1.12, 1.32),mode = \"Expand\", ncol=2,fontsize=14.5)\n",
    "#plt.savefig(nameS5+S+\"\\DataPM\\PF.pdf\", bbox_inches='tight', transparent=True, pad_inches=0,dpi=199)"
   ]
  },
  {
   "cell_type": "markdown",
   "id": "76c4903e-b1bd-4d6c-b9f8-d517058b240f",
   "metadata": {},
   "source": [
    "CNR Att"
   ]
  },
  {
   "cell_type": "code",
   "execution_count": 9,
   "id": "8c56b505-4498-41d0-9ed9-6e2398c238b9",
   "metadata": {},
   "outputs": [
    {
     "ename": "NameError",
     "evalue": "name 'PAY' is not defined",
     "output_type": "error",
     "traceback": [
      "\u001b[1;31m---------------------------------------------------------------------------\u001b[0m",
      "\u001b[1;31mNameError\u001b[0m                                 Traceback (most recent call last)",
      "\u001b[1;32m~\\AppData\\Local\\Temp/ipykernel_1116/614727135.py\u001b[0m in \u001b[0;36m<module>\u001b[1;34m\u001b[0m\n\u001b[1;32m----> 1\u001b[1;33m \u001b[0mAMPYS\u001b[0m\u001b[1;33m=\u001b[0m\u001b[0mnp\u001b[0m\u001b[1;33m.\u001b[0m\u001b[0mmean\u001b[0m\u001b[1;33m(\u001b[0m\u001b[0mPAY\u001b[0m\u001b[1;33m[\u001b[0m\u001b[0mX3\u001b[0m\u001b[1;33m:\u001b[0m\u001b[0mX4\u001b[0m\u001b[1;33m]\u001b[0m\u001b[1;33m)\u001b[0m\u001b[1;33m\u001b[0m\u001b[1;33m\u001b[0m\u001b[0m\n\u001b[0m\u001b[0;32m      2\u001b[0m \u001b[0mAMPYB\u001b[0m\u001b[1;33m=\u001b[0m\u001b[0mnp\u001b[0m\u001b[1;33m.\u001b[0m\u001b[0mmean\u001b[0m\u001b[1;33m(\u001b[0m\u001b[0mnp\u001b[0m\u001b[1;33m.\u001b[0m\u001b[0mconcatenate\u001b[0m\u001b[1;33m(\u001b[0m\u001b[1;33m(\u001b[0m\u001b[0mPAY\u001b[0m\u001b[1;33m[\u001b[0m\u001b[0mX1\u001b[0m\u001b[1;33m:\u001b[0m\u001b[0mX2\u001b[0m\u001b[1;33m]\u001b[0m\u001b[1;33m,\u001b[0m\u001b[0mPAY\u001b[0m\u001b[1;33m[\u001b[0m\u001b[0mX5\u001b[0m\u001b[1;33m:\u001b[0m\u001b[0mX6\u001b[0m\u001b[1;33m]\u001b[0m\u001b[1;33m)\u001b[0m\u001b[1;33m)\u001b[0m\u001b[1;33m)\u001b[0m\u001b[1;33m\u001b[0m\u001b[1;33m\u001b[0m\u001b[0m\n\u001b[0;32m      3\u001b[0m \u001b[0mASPYB\u001b[0m\u001b[1;33m=\u001b[0m\u001b[0mnp\u001b[0m\u001b[1;33m.\u001b[0m\u001b[0mstd\u001b[0m\u001b[1;33m(\u001b[0m\u001b[0mnp\u001b[0m\u001b[1;33m.\u001b[0m\u001b[0mconcatenate\u001b[0m\u001b[1;33m(\u001b[0m\u001b[1;33m(\u001b[0m\u001b[0mPAY\u001b[0m\u001b[1;33m[\u001b[0m\u001b[0mX1\u001b[0m\u001b[1;33m:\u001b[0m\u001b[0mX2\u001b[0m\u001b[1;33m]\u001b[0m\u001b[1;33m,\u001b[0m\u001b[0mPAY\u001b[0m\u001b[1;33m[\u001b[0m\u001b[0mX5\u001b[0m\u001b[1;33m:\u001b[0m\u001b[0mX6\u001b[0m\u001b[1;33m]\u001b[0m\u001b[1;33m)\u001b[0m\u001b[1;33m)\u001b[0m\u001b[1;33m)\u001b[0m\u001b[1;33m\u001b[0m\u001b[1;33m\u001b[0m\u001b[0m\n\u001b[0;32m      4\u001b[0m \u001b[0mACNRYP\u001b[0m\u001b[1;33m=\u001b[0m\u001b[1;33m(\u001b[0m\u001b[0mnp\u001b[0m\u001b[1;33m.\u001b[0m\u001b[0mabs\u001b[0m\u001b[1;33m(\u001b[0m\u001b[0mAMPYS\u001b[0m\u001b[1;33m-\u001b[0m\u001b[0mAMPYB\u001b[0m\u001b[1;33m)\u001b[0m\u001b[1;33m)\u001b[0m\u001b[1;33m/\u001b[0m\u001b[0mASPYB\u001b[0m\u001b[1;33m\u001b[0m\u001b[1;33m\u001b[0m\u001b[0m\n\u001b[0;32m      5\u001b[0m \u001b[0mprint\u001b[0m\u001b[1;33m(\u001b[0m\u001b[1;34m\"Mean Signal\"\u001b[0m\u001b[1;33m,\u001b[0m \u001b[0mnp\u001b[0m\u001b[1;33m.\u001b[0m\u001b[0mround\u001b[0m\u001b[1;33m(\u001b[0m\u001b[0mAMPYS\u001b[0m\u001b[1;33m,\u001b[0m\u001b[1;36m3\u001b[0m\u001b[1;33m)\u001b[0m\u001b[1;33m)\u001b[0m\u001b[1;33m\u001b[0m\u001b[1;33m\u001b[0m\u001b[0m\n",
      "\u001b[1;31mNameError\u001b[0m: name 'PAY' is not defined"
     ]
    }
   ],
   "source": [
    "AMPYS=np.mean(PAY[X3:X4])\n",
    "AMPYB=np.mean(np.concatenate((PAY[X1:X2],PAY[X5:X6])))\n",
    "ASPYB=np.std(np.concatenate((PAY[X1:X2],PAY[X5:X6])))\n",
    "ACNRYP=(np.abs(AMPYS-AMPYB))/ASPYB\n",
    "print(\"Mean Signal\", np.round(AMPYS,3))\n",
    "print(\"Mean Background\", np.round(AMPYB,3))\n",
    "print(\"D.E. Background\", np.round(ASPYB,3))\n",
    "print(\"Absorption image/The CNR of iodine is\", np.round(ACNRYP,3))"
   ]
  },
  {
   "cell_type": "code",
   "execution_count": null,
   "id": "2feaa472-2139-48c4-915b-2ea0cc6a0637",
   "metadata": {},
   "outputs": [],
   "source": [
    "AMPSS=np.mean(PAS[X3:X4])\n",
    "AMPSB=np.mean(np.concatenate((PAS[X1:X2],PAS[X5:X6])))\n",
    "ASPSB=np.std(np.concatenate((PAS[X1:X2],PAS[X5:X6])))\n",
    "ACNRSP=(np.abs(AMPSS-AMPSB))/ASPSB\n",
    "print(\"Mean Signal\", np.round(AMPSS,3))\n",
    "print(\"Mean Background\", np.round(AMPSB,3))\n",
    "print(\"D.E. Background\", np.round(ASPSB,3))\n",
    "print(\"Absorption image/The CNR of blood is\", np.round(ACNRSP,3))"
   ]
  },
  {
   "cell_type": "code",
   "execution_count": null,
   "id": "365447f4-e10d-4d48-bf8c-ac69e398e841",
   "metadata": {},
   "outputs": [],
   "source": [
    "AMPAS=np.mean(PAA[X3:X4])\n",
    "AMPAB=np.mean(np.concatenate((PAA[X1:X2],PAA[X5:X6])))\n",
    "ASPAB=np.std(np.concatenate((PAA[X1:X2],PAA[X5:X6])))\n",
    "ACNRAP=(np.abs(AMPAS-AMPAB))/ASPAB\n",
    "print(\"Mean Signal\", np.round(AMPAS,3))\n",
    "print(\"Mean Background\", np.round(AMPAB,3))\n",
    "print(\"D.E. Background\", np.round(ASPAB,3))\n",
    "print(\"Absorption image/The CNR of blood is\", np.round(ACNRAP,3))"
   ]
  },
  {
   "cell_type": "markdown",
   "id": "c61adfe5-45f5-4b8e-8269-a99b39d658af",
   "metadata": {},
   "source": [
    "CNR Phase"
   ]
  },
  {
   "cell_type": "code",
   "execution_count": null,
   "id": "699fc875-6ea6-40c7-b4d5-420ed8cd48a9",
   "metadata": {},
   "outputs": [],
   "source": [
    "MPYS=np.mean(PY[X3:X4])\n",
    "MPYB=np.mean(np.concatenate((PY[X1:X2],PY[X5:X6])))\n",
    "SPYB=np.std(np.concatenate((PY[X1:X2],PY[X5:X6])))\n",
    "CNRYP=(np.abs(MPYS-MPYB))/SPYB\n",
    "print(\"Mean Signal\", np.round(MPYS,3))\n",
    "print(\"Mean Background\", np.round(MPYB,3))\n",
    "print(\"D.E. Background\", np.round(SPYB,3))\n",
    "print(\"Phase image/The CNR of iodine is\", np.round(CNRYP,3))"
   ]
  },
  {
   "cell_type": "code",
   "execution_count": null,
   "id": "86a49475-c0b4-4da9-8a4b-eea8c097a28f",
   "metadata": {},
   "outputs": [],
   "source": [
    "MPSS=np.mean(PS[X3:X4])\n",
    "MPSB=np.mean(np.concatenate((PS[X1:X2],PS[X5:X6])))\n",
    "SPSB=np.std(np.concatenate((PS[X1:X2],PS[X5:X6])))\n",
    "CNRSP=(np.abs(MPSS-MPSB))/SPSB\n",
    "print(\"Mean Signal\", np.round(MPSS,3))\n",
    "print(\"Mean Background\", np.round(MPSB,3))\n",
    "print(\"D.E. Background\", np.round(SPSB,3))\n",
    "print(\"Phase image/The CNR of blood is\", np.round(CNRSP,3))"
   ]
  },
  {
   "cell_type": "code",
   "execution_count": null,
   "id": "4eb0292c-986e-4db2-bd2f-95937f18a133",
   "metadata": {},
   "outputs": [],
   "source": [
    "MPAS=np.mean(PA[X3:X4])\n",
    "MPAB=np.mean(np.concatenate((PA[X1:X2],PA[X5:X6])))\n",
    "SPAB=np.std(np.concatenate((PA[X1:X2],PA[X5:X6])))\n",
    "CNRAP=(np.abs(MPAS-MPAB))/SPAB\n",
    "print(\"Mean Signal\", np.round(MPAS,3))\n",
    "print(\"Mean Background\", np.round(MPAB,3))\n",
    "print(\"D.E. Background\", np.round(SPAB,3))\n",
    "print(\"Phase image/The CNR of air is\", np.round(CNRAP,3))"
   ]
  },
  {
   "cell_type": "code",
   "execution_count": null,
   "id": "68a1cd4a-cf4c-49d8-9268-b60ddc62a825",
   "metadata": {},
   "outputs": [],
   "source": [
    "nammme=\"PMMA3\"\n",
    "S=\"Artificial blood\"\n",
    "Sf=\"Artificial blood_5-95\"\n",
    "ST=\"Artificial blood_30-70\"\n",
    "SF=\"Artificial blood_50-50\"\n",
    "name00 = \"Tubos \"+nammme+\"\\Tubo \"+Name+\"\\RAW_\"\n",
    "PA=np.genfromtxt(name00+S+\"\\Data\\PA_\"+S)\n",
    "PAf=np.genfromtxt(name00+Sf+\"\\Data\\PA_\"+Sf)\n",
    "PAT=np.genfromtxt(name00+ST+\"\\Data\\PA_\"+ST)\n",
    "PAF=np.genfromtxt(name00+SF+\"\\Data\\PA_\"+SF)\n",
    "PP=np.genfromtxt(name00+S+\"\\Data\\PP_\"+S)\n",
    "PPf=np.genfromtxt(name00+Sf+\"\\Data\\PP_\"+Sf)\n",
    "PPT=np.genfromtxt(name00+ST+\"\\Data\\PP_\"+ST)\n",
    "PPF=np.genfromtxt(name00+SF+\"\\Data\\PP_\"+SF)"
   ]
  },
  {
   "cell_type": "code",
   "execution_count": null,
   "id": "4ff528d9-b9cf-48b3-a4c2-1f2b841675cb",
   "metadata": {},
   "outputs": [],
   "source": [
    "X=249\n",
    "XX=252\n",
    "XXX=252\n",
    "XXXX=248\n",
    "PAA=np.concatenate((PA[X:256],PA[0:X-1]))\n",
    "PAAf=np.concatenate((PAf[XXXX:256],PAf[0:XXXX-1]))\n",
    "PAAT=np.concatenate((PAT[XX:256],PAT[0:XX-1]))\n",
    "PAAF=np.concatenate((PAF[XXX:256],PAF[0:XXX-1]))\n",
    "PPP=np.concatenate((PP[X:256],PP[0:X-1]))\n",
    "PPPf=np.concatenate((PPf[XXXX:256],PPf[0:XXXX-1]))\n",
    "PPPT=np.concatenate((PPT[XX:256],PPT[0:XX-1]))\n",
    "PPPF=np.concatenate((PPF[XXX:256],PPF[0:XXX-1]))"
   ]
  },
  {
   "cell_type": "code",
   "execution_count": null,
   "id": "21d8ceb7-4fba-4c99-b9d6-05643c04eada",
   "metadata": {},
   "outputs": [],
   "source": [
    "fig,ax=plt.subplots()\n",
    "plt.plot(PAA,label=\"No mixture\",color=\"forestgreen\")\n",
    "plt.plot(PAAf,label=\"5% HA - 95% PMMA\",color=\"red\")\n",
    "plt.plot(PAAT,label=\"30% HA - 70% PMMA\",color=\"blue\")\n",
    "plt.plot(PAAF,label=\"50% HA - 50% PMMA\",color=\"gray\")\n",
    "plt.axhline(y=0.41, xmin=0, xmax=255,linestyle=\"-\", color=\"black\",linewidth=0.9)\n",
    "plt.axhline(y=0.265, xmin=0, xmax=255,linestyle=\"--\", color=\"red\",linewidth=0.9)\n",
    "plt.axhline(y=0.15, xmin=0, xmax=255,linestyle=\"--\", color=\"blue\",linewidth=0.9)\n",
    "plt.axhline(y=0.11, xmin=0, xmax=255,linestyle=\"--\", color=\"gray\",linewidth=0.9)\n",
    "plt.axhline(y=0.24, xmin=0, xmax=255,linestyle=\"--\", color=\"green\",linewidth=0.9)\n",
    "#plt.axvline(x=45, ymin=0, ymax=255,linestyle=\"-\", color=\"black\",linewidth=0.9)\n",
    "#plt.axvline(x=74, ymin=0, ymax=255,linestyle=\"-\", color=\"black\",linewidth=0.9)\n",
    "#plt.title(\"Attenuation profiles of \"+Name+\" external diameter \",fontsize=15)\n",
    "plt.ylabel(\"Normalized Absorption\",fontsize=14)\n",
    "plt.xlabel(\"Relative position (N° pixels)\",fontsize=14)\n",
    "plt.xlim(0,255)\n",
    "plt.ylim(-0.03,1.2)\n",
    "plt.grid(color = 'black', linestyle = '--', linewidth = 0.2)\n",
    "plt.legend(loc=9, fontsize=13)\n",
    "plt.savefig(name00+S+\"\\Data\\I\"+Name+\".png\", bbox_inches='tight', transparent=True, pad_inches=0)"
   ]
  },
  {
   "cell_type": "code",
   "execution_count": null,
   "id": "b7a2d9ff-e865-42a5-bb6c-9c5bf1089547",
   "metadata": {},
   "outputs": [],
   "source": [
    "fig,ax=plt.subplots()\n",
    "plt.plot(PPP,label=\"No mixture\",color=\"forestgreen\")\n",
    "plt.plot(PPPf,label=\"5% HA - 95% PMMA\",color=\"red\")\n",
    "plt.plot(PPPT,label=\"30% HA - 70% PMMA\",color=\"blue\")\n",
    "plt.plot(PPPF,label=\"50% HA - 50% PMMA\",color=\"gray\")\n",
    "plt.axhline(y=0.59, xmin=0, xmax=255,linestyle=\"-\", color=\"black\",linewidth=0.9)\n",
    "plt.axhline(y=0.39, xmin=0, xmax=255,linestyle=\"--\", color=\"red\",linewidth=0.9)\n",
    "plt.axhline(y=0.11, xmin=0, xmax=255,linestyle=\"--\", color=\"blue\",linewidth=0.9)\n",
    "plt.axhline(y=-0.02, xmin=0, xmax=255,linestyle=\"--\", color=\"gray\",linewidth=0.9)\n",
    "plt.axhline(y=0.34, xmin=0, xmax=255,linestyle=\"--\", color=\"green\",linewidth=0.9)\n",
    "#plt.title(\"Attenuation profiles of \"+Name+\" external diameter \",fontsize=15)\n",
    "plt.ylabel(\"Normalized Phase\",fontsize=14)\n",
    "plt.xlabel(\"Relative position (N° pixels)\",fontsize=14)\n",
    "plt.xlim(0,255)\n",
    "plt.ylim(-0.03,1.2)\n",
    "plt.grid(color = 'black', linestyle = '--', linewidth = 0.2)\n",
    "plt.legend(loc=9, fontsize=13)\n",
    "plt.savefig(name00+S+\"\\Data\\P\"+Name+\".png\", bbox_inches='tight', transparent=True, pad_inches=0)"
   ]
  },
  {
   "cell_type": "code",
   "execution_count": null,
   "id": "96e435fb-ee91-4ae3-b005-36241c57b8d0",
   "metadata": {},
   "outputs": [],
   "source": [
    "def FF(name, numArchivos,u):\n",
    "    FF=[]\n",
    "    for j in range(numArchivos):\n",
    "        if j<10:\n",
    "            FF.append(np.genfromtxt(\"{}00{}.txt\".format(name,j)))\n",
    "        if j>=10 and j<100:\n",
    "            FF.append(np.genfromtxt(\"{}0{}.txt\".format(name,j)))\n",
    "        if j>=100 and j<numArchivos:\n",
    "            FF.append(np.genfromtxt(\"{}{}.txt\".format(name,j)))\n",
    "    FFmean=np.zeros((len(FF[0]), len(FF[0])))\n",
    "    for j in range(len(FF)):\n",
    "        FFmean=FFmean+FF[j]\n",
    "    FFmean=np.rot90(FFmean,u)\n",
    "    s = np.zeros((len(FFmean),len(FFmean[0])))\n",
    "    for i in range(len(FFmean)):\n",
    "        for j in range(len(FFmean)):\n",
    "            if np.isnan(FFmean[i,j]):\n",
    "                FFmean[i,j] = 0.0\n",
    "    for i in range(len(FFmean)):\n",
    "        for j in range(len(FFmean[0])):\n",
    "            if FFmean[i,j] == 0.0:\n",
    "                a = i\n",
    "                b = j\n",
    "                c = 0\n",
    "                suma = 0\n",
    "                borde = 0\n",
    "                for k in range(a-1, a+2):\n",
    "                    for n in range(b-1, b+2):   \n",
    "                        try:\n",
    "                            suma += FFmean[k,n]\n",
    "                            if FFmean[k,n] == 0.0:\n",
    "                                c = c + 1\n",
    "                        except:\n",
    "                            borde = 1\n",
    "\n",
    "                if borde == 0:\n",
    "                    FFmean[i,j] = suma/(9-c)\n",
    "                else:\n",
    "                    FFmean[i,j] = suma/(6-c)\n",
    "    return FFmean"
   ]
  },
  {
   "cell_type": "code",
   "execution_count": null,
   "id": "0da02928-ff3f-4bfa-8d82-0f3c6b01d2df",
   "metadata": {},
   "outputs": [],
   "source": [
    "#FF1=np.genfromtxt(name00+Sf+\"\\RAW\\RAW-Sangre-30kV-50uA_000.txt\")"
   ]
  },
  {
   "cell_type": "code",
   "execution_count": null,
   "id": "fbac9157-7f35-48be-82c3-4e6f27772c8c",
   "metadata": {},
   "outputs": [],
   "source": [
    "#imag=plt.figure(figsize=(10,10))\n",
    "#plt.imshow(FF1, cmap=\"bone\")"
   ]
  },
  {
   "cell_type": "code",
   "execution_count": null,
   "id": "51cecf81-d0d7-448c-9b0f-6f5ae3f0000e",
   "metadata": {},
   "outputs": [],
   "source": [
    "#FFD=FF(name00+Sf+\"\\RAW\\RAW-Sangre-30kV-50uA_\",20,1)"
   ]
  },
  {
   "cell_type": "code",
   "execution_count": null,
   "id": "47a55842-d1a3-4a78-8b66-3551d12897ad",
   "metadata": {},
   "outputs": [],
   "source": [
    "#imag=plt.figure(figsize=(10,10))\n",
    "#plt.imshow(FFD, cmap=\"bone\")"
   ]
  },
  {
   "cell_type": "code",
   "execution_count": null,
   "id": "5125a8a1-6595-4d36-98a7-dd65f76dc4d7",
   "metadata": {},
   "outputs": [],
   "source": [
    "#np.savetxt(name00+Sf+\"\\RAW1.txt\",FFD)"
   ]
  },
  {
   "cell_type": "code",
   "execution_count": null,
   "id": "31931bfd-0b8f-4ebe-9785-81fa3de0da73",
   "metadata": {},
   "outputs": [],
   "source": [
    "#FF\\FF-30kV-50uA_0000.txt"
   ]
  },
  {
   "cell_type": "code",
   "execution_count": null,
   "id": "92d8c009-df68-4308-8989-72ca015dda53",
   "metadata": {},
   "outputs": [],
   "source": [
    "fig,ax=plt.subplots()\n",
    "plt.plot(PBY,label=\"Povidone-iodine\")\n",
    "plt.plot(PBA,label=\"Air\")\n",
    "plt.plot(PBS,label=\"Artificial Blood\")\n",
    "plt.title(\"Phase profiles of \"+Name+\" external diameter \"+namme,fontsize=16)\n",
    "plt.ylabel(\"Relative Phase\",fontsize=14)\n",
    "plt.xlabel(\"Relative position (N° pixels)\",fontsize=14)\n",
    "plt.grid()\n",
    "plt.legend(loc=3, fontsize=10.5)\n",
    "#plt.savefig(\"Tubos \"+namme+\"\\Tubo \"+Name+\"\\PPB_\"+Name+\".png\", bbox_inches='tight', transparent=True, pad_inches=0)"
   ]
  },
  {
   "cell_type": "code",
   "execution_count": null,
   "id": "ffdc6911-ce10-4fdd-a25b-4c298206c0f4",
   "metadata": {},
   "outputs": [],
   "source": [
    "fig,ax=plt.subplots()\n",
    "plt.plot(PBA,label=A+\"B\",color=\"red\",linewidth=3.8)\n",
    "plt.plot(PA,label=A+\"P\",color=\"darkblue\",linewidth=2)\n",
    "plt.title(\"Phase profiles of \"+Name+\" external diameter \"+namme,fontsize=16)\n",
    "plt.ylabel(\"Relative Phase\",fontsize=14)\n",
    "plt.xlabel(\"Relative position (N° pixels)\",fontsize=14)\n",
    "plt.grid()\n",
    "plt.legend(loc=3, fontsize=12)\n",
    "#plt.savefig(\"Tubos \"+namme+\"\\Tubo \"+Name+\"\\RAW_\"+A+\"\\Data\\CPP_\"+Name+\".png\", bbox_inches='tight', transparent=True, pad_inches=0)"
   ]
  },
  {
   "cell_type": "code",
   "execution_count": null,
   "id": "c228bea6-f611-4b1e-8e46-ce5176fa26e6",
   "metadata": {},
   "outputs": [],
   "source": [
    "fig,ax=plt.subplots()\n",
    "plt.plot(PBS,label=S+\"B\",color=\"red\",linewidth=3.8)\n",
    "plt.plot(PS,label=S+\"P\",color=\"darkblue\",linewidth=2)\n",
    "plt.title(\"Phase profiles of \"+Name+\" external diameter \"+namme,fontsize=16)\n",
    "plt.ylabel(\"Relative Phase\",fontsize=14)\n",
    "plt.xlabel(\"Relative position (N° pixels)\",fontsize=14)\n",
    "plt.grid()\n",
    "plt.legend(loc=3, fontsize=12)\n",
    "#plt.savefig(\"Tubos \"+namme+\"\\Tubo \"+Name+\"\\RAW_\"+S+\"\\Data\\CPP_\"+Name+\".png\", bbox_inches='tight', transparent=True, pad_inches=0)"
   ]
  },
  {
   "cell_type": "code",
   "execution_count": null,
   "id": "d6ffcc5d-1901-4c0f-8ea0-6a84741f2506",
   "metadata": {},
   "outputs": [],
   "source": [
    "fig,ax=plt.subplots()\n",
    "plt.plot(PBY,label=I+\"B\",color=\"red\",linewidth=3.8)\n",
    "plt.plot(PY,label=I+\"P\",color=\"darkblue\",linewidth=2)\n",
    "plt.title(\"Phase profiles of \"+Name+\" external diameter \"+namme,fontsize=16)\n",
    "plt.ylabel(\"Relative Phase\",fontsize=14)\n",
    "plt.xlabel(\"Relative position (N° pixels)\",fontsize=14)\n",
    "plt.grid()\n",
    "plt.legend(loc=3, fontsize=12)\n",
    "#plt.savefig(\"Tubos \"+namme+\"\\Tubo \"+Name+\"\\RAW_\"+I+\"\\Data\\CPP_\"+Name+\".png\", bbox_inches='tight', transparent=True, pad_inches=0)"
   ]
  },
  {
   "cell_type": "code",
   "execution_count": null,
   "id": "51f02b09-5580-4b56-bb51-72c523fe033c",
   "metadata": {},
   "outputs": [],
   "source": [
    "i1=48\n",
    "i2=208\n",
    "plt.plot(PY[i1:i2],label=\"Povidone-iodine\")"
   ]
  },
  {
   "cell_type": "code",
   "execution_count": null,
   "id": "bb464ed2-8191-480b-b1a3-20188a7eba05",
   "metadata": {},
   "outputs": [],
   "source": [
    "I1=26\n",
    "plt.plot(PY[I1:i1],label=\"Povidone-iodine\")"
   ]
  },
  {
   "cell_type": "code",
   "execution_count": null,
   "id": "7e61feba-2f14-4290-a646-d55073723c7c",
   "metadata": {},
   "outputs": [],
   "source": [
    "MPYS=np.mean(PY[i1:i2])\n",
    "MPYB=np.mean(PY[I1:i1])\n",
    "SPYB=np.std(PY[I1:i1])\n",
    "CNRYP=(np.abs(MPYS-MPYB))/SPYB\n",
    "print(MPYS)\n",
    "print(MPYB)\n",
    "print(SPYB)\n",
    "print(\"Phase image/The CNR of iodine is\", CNRYP)"
   ]
  },
  {
   "cell_type": "code",
   "execution_count": null,
   "id": "0a44f4bd-1013-46ed-9658-a237a2ea183a",
   "metadata": {},
   "outputs": [],
   "source": [
    "MinY1=np.min(PY[i1:130])\n",
    "MinY2=np.min(PY[130:i2])\n",
    "MaxY1=np.max(PY[i1:130])\n",
    "MaxY2=np.max(PY[130:i2])\n",
    "PromYmn=(MinY1+MinY2)/2\n",
    "PromYma=(MaxY1+MaxY2)/2\n",
    "VisY=PromYma-PromYmn\n",
    "print(MinY1)\n",
    "print(MinY2)\n",
    "print(MaxY1)\n",
    "print(MaxY2)\n",
    "print(\"Phase image/The visibility of iodine is\", VisY)"
   ]
  },
  {
   "cell_type": "code",
   "execution_count": null,
   "id": "f5a67696-a107-4fa2-9398-e11c32f2b299",
   "metadata": {},
   "outputs": [],
   "source": [
    "plt.plot(RAWY[i1:i2],label=\"Povidone-iodine\")"
   ]
  },
  {
   "cell_type": "code",
   "execution_count": null,
   "id": "4bbe7ca0-b20b-443b-ab73-21faf2a700b5",
   "metadata": {},
   "outputs": [],
   "source": [
    "plt.plot(RAWY[I1:i1],label=\"Povidone-iodine\")"
   ]
  },
  {
   "cell_type": "code",
   "execution_count": null,
   "id": "09c8adfc-d74f-40e2-88a8-cc7e6eefdaf7",
   "metadata": {},
   "outputs": [],
   "source": [
    "MYS=np.mean(RAWY[i1:i2])\n",
    "MYB=np.mean(RAWY[I1:i1])\n",
    "SYB=np.std(RAWY[I1:i1])\n",
    "CNRYR=(np.abs(MYS-MYB))/SYB\n",
    "print(MYS)\n",
    "print(MYB)\n",
    "print(SYB)\n",
    "print(\"Intensity image/The CNR of iodine is\", CNRYR)"
   ]
  },
  {
   "cell_type": "code",
   "execution_count": null,
   "id": "2c474e2a-bf27-4384-9454-1e0e9845df58",
   "metadata": {},
   "outputs": [],
   "source": [
    "MinYY1=np.min(RAWY[i1:130])\n",
    "MinYY2=np.min(RAWY[130:i2])\n",
    "MaxYY1=np.max(RAWY[i1:130])\n",
    "MaxYY2=np.max(RAWY[130:i2])\n",
    "PromYYmn=(MinYY1+MinYY2)/2\n",
    "PromYYma=(MaxYY1+MaxYY2)/2\n",
    "VisYY=PromYYma-PromYYmn\n",
    "print(MinYY1)\n",
    "print(MinYY2)\n",
    "print(MaxYY1)\n",
    "print(MaxYY2)\n",
    "print(\"Intensity image/The visibility of iodine is\", VisYY)"
   ]
  },
  {
   "cell_type": "code",
   "execution_count": null,
   "id": "ab5025c3-a7e3-4c69-a15e-0df7aa86b53c",
   "metadata": {},
   "outputs": [],
   "source": [
    "plt.plot(PS[i1:i2],label=\"Artificial blood\")"
   ]
  },
  {
   "cell_type": "code",
   "execution_count": null,
   "id": "4db0fcec-3bcf-4d32-89ad-8a696c3ba619",
   "metadata": {},
   "outputs": [],
   "source": [
    "A=I1\n",
    "plt.plot(PS[A:i1],label=\"Artificial blood\")"
   ]
  },
  {
   "cell_type": "code",
   "execution_count": null,
   "id": "7102136a-c261-4369-ac14-498473025726",
   "metadata": {},
   "outputs": [],
   "source": [
    "MPSS=np.mean(PS[i1:i2])\n",
    "MPSB=np.mean(PS[A:i1])\n",
    "SPSB=np.std(PS[A:i1])\n",
    "CNRSP=(np.abs(MPSS-MPSB))/SPSB\n",
    "print(MPSS)\n",
    "print(MPSB)\n",
    "print(SPSB)\n",
    "print(\"Phase image/The CNR of blood is\", CNRSP)"
   ]
  },
  {
   "cell_type": "code",
   "execution_count": null,
   "id": "5e5d0b34-ac11-4ecb-baf8-168a58087bad",
   "metadata": {},
   "outputs": [],
   "source": [
    "MinS1=np.min(PS[i1:130])\n",
    "MinS2=np.min(PS[130:i2])\n",
    "MaxS1=np.max(PS[i1:130])\n",
    "MaxS2=np.max(PS[130:i2])\n",
    "PromSmn=(MinS1+MinS2)/2\n",
    "PromSma=(MaxS1+MaxS2)/2\n",
    "VisS=PromSma-PromSmn\n",
    "print(MinS1)\n",
    "print(MinS2)\n",
    "print(MaxS1)\n",
    "print(MaxS2)\n",
    "print(\"Phase image/The visibility of blood is\", VisS)"
   ]
  },
  {
   "cell_type": "code",
   "execution_count": null,
   "id": "57ed9b37-e021-46b1-a0f6-d6096a7c29e1",
   "metadata": {},
   "outputs": [],
   "source": [
    "plt.plot(RAWS[i1:i2],label=\"Artificial blood\")"
   ]
  },
  {
   "cell_type": "code",
   "execution_count": null,
   "id": "fe837ad4-bd2c-48ec-916b-2d2718b4b698",
   "metadata": {},
   "outputs": [],
   "source": [
    "plt.plot(RAWS[A:i1],label=\"Artificial blood\")"
   ]
  },
  {
   "cell_type": "code",
   "execution_count": null,
   "id": "efd769cf-b103-4c81-93f9-14355223e20e",
   "metadata": {},
   "outputs": [],
   "source": [
    "MSS=np.mean(RAWS[i1:i2])\n",
    "MSB=np.mean(RAWS[A:i1])\n",
    "SSB=np.std(RAWS[A:i1])\n",
    "CNRSR=(np.abs(MSS-MSB))/SSB\n",
    "print(MSS)\n",
    "print(MSB)\n",
    "print(SSB)\n",
    "print(\"Intensity image/The CNR of blood is\", CNRSR)"
   ]
  },
  {
   "cell_type": "code",
   "execution_count": null,
   "id": "28d12340-1c79-46a9-8a94-a32f07343bc0",
   "metadata": {},
   "outputs": [],
   "source": [
    "MinIS1=np.min(RAWS[i1-3:130])\n",
    "MinIS2=np.min(RAWS[130:i2-3])\n",
    "MaxIS1=np.max(RAWS[i1-3:130])\n",
    "MaxIS2=np.max(RAWS[130:i2-3])\n",
    "PromISmn=(MinIS1+MinIS2)/2\n",
    "PromISma=(MaxIS1+MaxIS2)/2\n",
    "VisIS=PromISma-PromISmn\n",
    "print(MinIS1)\n",
    "print(MinIS2)\n",
    "print(MaxIS1)\n",
    "print(MaxIS2)\n",
    "print(\"Intensity image/The visibility of blood is\", VisIS)"
   ]
  },
  {
   "cell_type": "code",
   "execution_count": null,
   "id": "bccce33b-88da-4b4e-ac58-d751dcd6212d",
   "metadata": {},
   "outputs": [],
   "source": [
    "A1=i1+5\n",
    "A2=i2-5\n",
    "plt.plot(PA[A1:A2],label=\"Air\")"
   ]
  },
  {
   "cell_type": "code",
   "execution_count": null,
   "id": "cc3c0b38-ad84-41bb-92d8-602429a61858",
   "metadata": {},
   "outputs": [],
   "source": [
    "plt.plot(PA[A:i1],label=\"Air\")"
   ]
  },
  {
   "cell_type": "code",
   "execution_count": null,
   "id": "068745f0-2c98-4ff8-92ee-da6eeb78cf73",
   "metadata": {},
   "outputs": [],
   "source": [
    "MPAS=np.mean(PA[A1:A2])\n",
    "MPAB=np.mean(PA[A:i1])\n",
    "SPAB=np.std(PA[A:i1])\n",
    "CNRAP=(np.abs(MPAS-MPAB))/SPAB\n",
    "print(MPAS)\n",
    "print(MPAB)\n",
    "print(SPAB)\n",
    "print(\"Phase image/The CNR of air is\", CNRAP)"
   ]
  },
  {
   "cell_type": "code",
   "execution_count": null,
   "id": "13181a54-12be-4b1e-ae01-d44c542f8dd9",
   "metadata": {},
   "outputs": [],
   "source": [
    "MinA=np.min(PA[A:i1])\n",
    "MaxA=np.max(PA[A1:A2])\n",
    "VisA=MaxA-MinA\n",
    "print(MinA)\n",
    "print(MaxA)\n",
    "print(\"Phase image/The visibility of air is\", VisA)"
   ]
  },
  {
   "cell_type": "code",
   "execution_count": null,
   "id": "eb862ab5-0ac9-45ac-9c09-df39c24fcb7e",
   "metadata": {},
   "outputs": [],
   "source": [
    "plt.plot(RAWA[A1:A2],label=\"Air\")"
   ]
  },
  {
   "cell_type": "code",
   "execution_count": null,
   "id": "e9a723aa-846a-4407-8010-e1fa2cb53232",
   "metadata": {},
   "outputs": [],
   "source": [
    "plt.plot(RAWA[A:i1],label=\"Air\")"
   ]
  },
  {
   "cell_type": "code",
   "execution_count": null,
   "id": "060d9343-fcc8-430a-8dbc-f68b35b53ca5",
   "metadata": {},
   "outputs": [],
   "source": [
    "MAS=np.mean(RAWA[A1:A2])\n",
    "MAB=np.mean(RAWA[A:i1])\n",
    "SAB=np.std(RAWA[A:i1])\n",
    "CNRAR=(np.abs(MAS-MAB))/SYB\n",
    "print(MAS)\n",
    "print(MAB)\n",
    "print(SAB)\n",
    "print(\"Intensity image/The CNR of air is\", CNRAR)"
   ]
  },
  {
   "cell_type": "code",
   "execution_count": null,
   "id": "a4e46bb3-c400-4d4b-9987-b94e098a8277",
   "metadata": {},
   "outputs": [],
   "source": [
    "MinAA=np.min(RAWA[A:i1])\n",
    "MaxAA=np.max(RAWA[A1:A2])\n",
    "VisAA=MaxAA-MinAA\n",
    "print(MinAA)\n",
    "print(MaxAA)\n",
    "print(\"Intensity image/The visibility of air is\", VisAA)"
   ]
  },
  {
   "cell_type": "code",
   "execution_count": null,
   "id": "286af665-3f73-4c53-b1cd-7690ab3c3300",
   "metadata": {},
   "outputs": [],
   "source": []
  }
 ],
 "metadata": {
  "kernelspec": {
   "display_name": "Python 3 (ipykernel)",
   "language": "python",
   "name": "python3"
  },
  "language_info": {
   "codemirror_mode": {
    "name": "ipython",
    "version": 3
   },
   "file_extension": ".py",
   "mimetype": "text/x-python",
   "name": "python",
   "nbconvert_exporter": "python",
   "pygments_lexer": "ipython3",
   "version": "3.9.7"
  }
 },
 "nbformat": 4,
 "nbformat_minor": 5
}
